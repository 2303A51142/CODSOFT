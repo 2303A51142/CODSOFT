{
  "cells": [
    {
      "cell_type": "markdown",
      "metadata": {
        "id": "view-in-github",
        "colab_type": "text"
      },
      "source": [
        "<a href=\"https://colab.research.google.com/github/2303A51142/CODSOFT/blob/main/RECOMMENDATION%20SYSTEM.ipynb\" target=\"_parent\"><img src=\"https://colab.research.google.com/assets/colab-badge.svg\" alt=\"Open In Colab\"/></a>"
      ]
    },
    {
      "cell_type": "markdown",
      "source": [
        "RECOMMENDATION SYSTEM\n",
        "\n",
        "Create a simple recommendation system that suggests items to\n",
        "users based on their preferences. You can use techniques like\n",
        "collaborative filtering or content-based filtering to recommend\n",
        "movies, books, or products to users."
      ],
      "metadata": {
        "id": "B7SJI9dnqu3E"
      }
    },
    {
      "cell_type": "code",
      "source": [
        "import pandas as pd\n",
        "from surprise import Dataset, Reader\n",
        "from surprise import SVD\n",
        "from surprise.model_selection import train_test_split\n",
        "from surprise import accuracy\n",
        "\n",
        "data = Dataset.load_builtin('ml-100k')\n",
        "reader = Reader(line_format='user item rating timestamp', sep='\\t')\n",
        "\n",
        "df = pd.DataFrame(data.raw_ratings, columns=['user', 'item', 'rating', 'timestamp'])\n",
        "\n",
        "model = SVD()\n",
        "\n",
        "trainset, testset = train_test_split(data, test_size=0.2)\n",
        "\n",
        "model.fit(trainset)\n",
        "\n",
        "predictions = model.test(testset)\n",
        "\n",
        "accuracy.rmse(predictions)\n",
        "\n",
        "def get_recommendations(user_id, n_recommendations=5):\n",
        "    all_items = df['item'].unique()\n",
        "    user_predictions = []\n",
        "    for item in all_items:\n",
        "        predicted_rating = model.predict(user_id, item).est\n",
        "        user_predictions.append((item, predicted_rating))\n",
        "    user_predictions.sort(key=lambda x: x[1], reverse=True)\n",
        "    return user_predictions[:n_recommendations]\n",
        "\n",
        "recommended_items = get_recommendations(user_id=196, n_recommendations=5)\n",
        "print(\"Recommended Items for User 196:\")\n",
        "for item, rating in recommended_items:\n",
        "    print(f\"Item ID: {item}, Predicted Rating: {rating:.2f}\")\n",
        "\n"
      ],
      "metadata": {
        "colab": {
          "base_uri": "https://localhost:8080/"
        },
        "id": "YqZfbxl5qyo8",
        "outputId": "055ea4b0-b286-498e-bf4e-eb2615394f87"
      },
      "execution_count": 3,
      "outputs": [
        {
          "output_type": "stream",
          "name": "stdout",
          "text": [
            "RMSE: 0.9395\n",
            "Recommended Items for User 196:\n",
            "Item ID: 408, Predicted Rating: 4.63\n",
            "Item ID: 483, Predicted Rating: 4.56\n",
            "Item ID: 318, Predicted Rating: 4.52\n",
            "Item ID: 12, Predicted Rating: 4.50\n",
            "Item ID: 64, Predicted Rating: 4.50\n"
          ]
        }
      ]
    }
  ],
  "metadata": {
    "colab": {
      "name": "Welcome to Colaboratory",
      "toc_visible": true,
      "provenance": [],
      "include_colab_link": true
    },
    "kernelspec": {
      "display_name": "Python 3",
      "name": "python3"
    }
  },
  "nbformat": 4,
  "nbformat_minor": 0
}